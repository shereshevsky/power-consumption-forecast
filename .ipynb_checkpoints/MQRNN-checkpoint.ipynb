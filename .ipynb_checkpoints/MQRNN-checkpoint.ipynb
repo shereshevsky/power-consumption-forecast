{
 "cells": [
  {
   "cell_type": "code",
   "execution_count": 370,
   "metadata": {},
   "outputs": [
    {
     "name": "stdout",
     "output_type": "stream",
     "text": [
      "Populating the interactive namespace from numpy and matplotlib\n"
     ]
    }
   ],
   "source": [
    "%pylab inline\n",
    "plt.style.use(\"bmh\")\n",
    "plt.rcParams[\"figure.figsize\"] = (6,6)\n",
    "import plotly.express as px \n"
   ]
  },
  {
   "cell_type": "code",
   "execution_count": 371,
   "metadata": {},
   "outputs": [],
   "source": [
    "%config Completer.use_jedi = False"
   ]
  },
  {
   "cell_type": "code",
   "execution_count": 372,
   "metadata": {},
   "outputs": [],
   "source": [
    "import pathlib"
   ]
  },
  {
   "cell_type": "code",
   "execution_count": 373,
   "metadata": {},
   "outputs": [],
   "source": [
    "import pandas as pd\n",
    "import numpy as np"
   ]
  },
  {
   "cell_type": "code",
   "execution_count": 374,
   "metadata": {},
   "outputs": [],
   "source": [
    "DATA_DIR = pathlib.Path(\"../data\")"
   ]
  },
  {
   "cell_type": "code",
   "execution_count": 375,
   "metadata": {},
   "outputs": [
    {
     "name": "stdout",
     "output_type": "stream",
     "text": [
      "AEP_hourly.csv\t   EKPC_hourly.csv\t\t  __MACOSX\r\n",
      "COMED_hourly.csv   est_hourly.paruqet\t\t  NI_hourly.csv\r\n",
      "DAYTON_hourly.csv  FE_hourly.csv\t\t  PJME_hourly.csv\r\n",
      "DEOK_hourly.csv    hourly-energy-consumption.zip  pjm_hourly_est.csv\r\n",
      "DOM_hourly.csv\t   LD2011_2014.txt\t\t  PJM_Load_hourly.csv\r\n",
      "DUQ_hourly.csv\t   LD2011_2014.txt.zip\t\t  PJMW_hourly.csv\r\n"
     ]
    }
   ],
   "source": [
    "!ls ../data"
   ]
  },
  {
   "cell_type": "code",
   "execution_count": 552,
   "metadata": {},
   "outputs": [],
   "source": [
    "eldata = pd.read_csv(DATA_DIR/'LD2011_2014.txt', sep=';', decimal=',')\n",
    "eldata.columns = [\"timestamp\"]+[f\"MT_{i+1:0>3}\" for i in range(370)]"
   ]
  },
  {
   "cell_type": "code",
   "execution_count": 553,
   "metadata": {},
   "outputs": [],
   "source": [
    "eldata[\"timestamp\"] = pd.to_datetime(eldata.timestamp)"
   ]
  },
  {
   "cell_type": "code",
   "execution_count": 554,
   "metadata": {},
   "outputs": [],
   "source": [
    "eldata = eldata.resample(\"1H\", on=\"timestamp\").mean()"
   ]
  },
  {
   "cell_type": "code",
   "execution_count": 651,
   "metadata": {},
   "outputs": [],
   "source": [
    "data = eldata\n",
    "\n",
    "# Adding calendar features\n",
    "data[\"yearly_cycle\"] = np.sin(2 * np.pi * data.index.dayofyear / 366)\n",
    "data[\"weekly_cycle\"] = np.sin(2 * np.pi * data.index.dayofweek / 7)\n",
    "data[\"daily_cycle\"] = np.sin(2 * np.pi * data.index.hour / 24)\n",
    "calendar_features = [\"yearly_cycle\", \"weekly_cycle\", \"daily_cycle\"]\n",
    "# calendar_features = [\"daily_cycle\"]"
   ]
  },
  {
   "cell_type": "code",
   "execution_count": 648,
   "metadata": {},
   "outputs": [
    {
     "data": {
      "text/plain": [
       "<matplotlib.axes._subplots.AxesSubplot at 0x7fe49b256c50>"
      ]
     },
     "execution_count": 648,
     "metadata": {},
     "output_type": "execute_result"
    },
    {
     "data": {
      "image/png": "[encoded data removed]",
      "text/plain": [
       "<Figure size 432x432 with 1 Axes>"
      ]
     },
     "metadata": {
      "needs_background": "light"
     },
     "output_type": "display_data"
    }
   ],
   "source": [
    "plt.figure(figsize=(6,6))\n",
    "eldata['2013-01-01':'2014-01-01']['MT_046'].plot(kind=\"hist\", ax=plt.gca())"
   ]
  },
  {
   "cell_type": "code",
   "execution_count": 557,
   "metadata": {},
   "outputs": [],
   "source": [
    "# PyTorch imports\n",
    "import torch\n",
    "import torch.nn.functional as F\n",
    "from torch import nn\n",
    "from torch.utils.data import DataLoader, Dataset\n",
    "\n",
    "# PyTorch Lightning imports\n",
    "import pytorch_lightning as pl"
   ]
  },
  {
   "cell_type": "code",
   "execution_count": null,
   "metadata": {},
   "outputs": [],
   "source": []
  },
  {
   "cell_type": "code",
   "execution_count": null,
   "metadata": {},
   "outputs": [],
   "source": []
  },
  {
   "cell_type": "code",
   "execution_count": 666,
   "metadata": {},
   "outputs": [],
   "source": [
    "class MQRNN_dataset(Dataset):\n",
    "    \"\"\"Sample data from electricity load dataset (per household, resampled to one hour).\"\"\"\n",
    "\n",
    "    def __init__(self,\n",
    "                series_df:pd.DataFrame,\n",
    "                covariate_df:pd.DataFrame, \n",
    "                 \n",
    "                horizon_size:int,\n",
    "                quantile_size:int):\n",
    "        \n",
    "        self.series_df = series_df\n",
    "        self.covariate_df = covariate_df\n",
    "        self.horizon_size = horizon_size\n",
    "        self.quantile_size = quantile_size\n",
    "        \n",
    "        full_covariate = []\n",
    "        covariate_size = self.covariate_df.shape[1]\n",
    "        print(f\"self.covariate_df.shape[0] : {self.covariate_df.shape[0]}\")\n",
    "        for i in range(1, self.covariate_df.shape[0] - horizon_size+1):\n",
    "            cur_covariate = []\n",
    "            cur_covariate.append(self.covariate_df.iloc[i:i+horizon_size,:].to_numpy())\n",
    "            full_covariate.append(cur_covariate)\n",
    "        full_covariate = np.array(full_covariate)\n",
    "        print(f\"full_covariate shape: {full_covariate.shape}\")\n",
    "        full_covariate = full_covariate.reshape(-1, horizon_size * covariate_size)\n",
    "        self.next_covariate = full_covariate\n",
    "        \n",
    "    def __len__(self):\n",
    "        return self.series_df.shape[1]\n",
    "    \n",
    "    def __getitem__(self,idx):\n",
    "        cur_series = np.array(self.series_df.iloc[: -self.horizon_size, idx])\n",
    "        cur_covariate = np.array(self.covariate_df.iloc[:-self.horizon_size, :]) # covariate used in generating hidden states\n",
    "\n",
    "        covariate_size = self.covariate_df.shape[1]\n",
    "\n",
    "        real_vals_list = []\n",
    "        for i in range(1, self.horizon_size+1):\n",
    "            real_vals_list.append(np.array(self.series_df.iloc[i: self.series_df.shape[0]-self.horizon_size+i, idx]))\n",
    "        real_vals_array = np.array(real_vals_list) #[horizon_size, seq_len]\n",
    "        real_vals_array = real_vals_array.T #[seq_len, horizon_size]\n",
    "        cur_series_tensor = torch.tensor(cur_series)\n",
    "        \n",
    "        cur_series_tensor = torch.unsqueeze(cur_series_tensor,dim=1) # [seq_len, 1]\n",
    "        cur_covariate_tensor = torch.tensor(cur_covariate) #[seq_len, covariate_size]\n",
    "        cur_series_covariate_tensor = torch.cat([cur_series_tensor, cur_covariate_tensor],dim=1)\n",
    "        next_covariate_tensor = torch.tensor(self.next_covariate) #[seq_len, horizon_size * covariate_size]\n",
    "\n",
    "        cur_real_vals_tensor = torch.tensor(real_vals_array)\n",
    "        return cur_series_covariate_tensor, next_covariate_tensor, cur_real_vals_tensor"
   ]
  },
  {
   "cell_type": "code",
   "execution_count": null,
   "metadata": {},
   "outputs": [],
   "source": []
  },
  {
   "cell_type": "code",
   "execution_count": 667,
   "metadata": {},
   "outputs": [],
   "source": [
    "class Encoder(pl.LightningModule):\n",
    "    \"\"\"\n",
    "    Encoder of the Encoder-Decoder Structure. For MQ_RNN, this encoder\n",
    "    is the same as the traditional seq2seq model, which is based on the LSTM.\n",
    "    \"\"\"\n",
    "    def __init__(self, \n",
    "                horizon_size:int, \n",
    "                covariate_size:int, \n",
    "                hidden_size:int, \n",
    "                dropout:float, \n",
    "                layer_size:int, \n",
    "                by_direction:bool,\n",
    "                device):\n",
    "        super().__init__()\n",
    "        self.horizon_size = horizon_size\n",
    "        self.covariate_size = covariate_size\n",
    "        self.hidden_size = hidden_size\n",
    "        self.layer_size = layer_size\n",
    "        self.by_direction = by_direction\n",
    "        self.dropout = dropout\n",
    "        self.LSTM = nn.LSTM(input_size= covariate_size+1, \n",
    "                            hidden_size=hidden_size, \n",
    "                            num_layers=layer_size, \n",
    "                            dropout=dropout,\n",
    "                            bidirectional=by_direction)\n",
    "        for param in self.LSTM.parameters():\n",
    "            if len(param.shape) >= 2:\n",
    "                torch.nn.init.orthogonal_(param.data)\n",
    "            else:\n",
    "                torch.nn.init.normal_(param.data)\n",
    "    \n",
    "    def forward(self, input):\n",
    "        \"\"\"\n",
    "        For the RNN(LSTM), the input shape is [seq_len,batch_size,input_size]\n",
    "        where input_size = covariate_size +1\n",
    "        \"\"\"\n",
    "        seq_len = input.shape[0]\n",
    "        batch_size = input.shape[1]\n",
    "        input_size = input.shape[2]\n",
    "        layer_size = self.layer_size\n",
    "        direction_size = 1\n",
    "        if self.by_direction:\n",
    "            direction_size = 2\n",
    "        outputs,_ = self.LSTM(input)\n",
    "        outputs_reshape = outputs.view(seq_len,batch_size,direction_size,self.hidden_size)\n",
    "        outputs_last_layer = outputs_reshape[:,:,-1,:]\n",
    "        final_outputs = outputs_last_layer.view(seq_len,batch_size,self.hidden_size)\n",
    "        return final_outputs"
   ]
  },
  {
   "cell_type": "code",
   "execution_count": 668,
   "metadata": {},
   "outputs": [],
   "source": [
    "class GlobalDecoder(pl.LightningModule):\n",
    "    \"\"\"\n",
    "    Based on the hidden tensor generated by the Encoder and the values\n",
    "    of the covariate time series in prediction horizon\n",
    "    input_size = hidden_size + covariate_size * horizon_size\n",
    "    output_size: (horizon_size+1) * context_size\n",
    "    \"\"\"\n",
    "    def __init__(self,\n",
    "                 hidden_size:int, \n",
    "                 covariate_size:int,\n",
    "                 horizon_size:int,\n",
    "                 context_size:int):\n",
    "        super().__init__()\n",
    "        self.hidden_size = hidden_size\n",
    "        self.covariate_size = covariate_size\n",
    "        self.horizon_size = horizon_size\n",
    "        self.context_size = context_size\n",
    "\n",
    "        self.linear1 = nn.Linear(in_features= hidden_size + covariate_size*horizon_size, \n",
    "                                out_features= horizon_size*hidden_size*3)\n",
    "        \n",
    "        self.linear2 = nn.Linear(in_features= horizon_size*hidden_size*3, \n",
    "                                out_features= horizon_size*hidden_size*2)\n",
    "        \n",
    "        self.linear3 = nn.Linear(in_features= horizon_size*hidden_size*2, \n",
    "                                out_features= (horizon_size+1)*context_size)\n",
    "\n",
    "        self.activation = nn.ReLU()\n",
    "    def forward(self, input):\n",
    "        layer1_output = self.linear1(input)\n",
    "        layer1_output = self.activation(layer1_output)\n",
    "\n",
    "        layer2_output = self.linear2(layer1_output)\n",
    "        layer2_output = self.activation(layer2_output)\n",
    "\n",
    "        layer3_output = self.linear3(layer2_output)\n",
    "        layer3_output = self.activation(layer3_output)\n",
    "        return layer3_output\n",
    "\n",
    "\n",
    "class LocalDecoder(pl.LightningModule):\n",
    "    \"\"\"\n",
    "    Based on the resulting tensor generated by the GlobalDecoder and the \n",
    "    covariate time series value at prediction step.\n",
    "    input_size: (horizon_size+1)*context_size + horizon_size*covariate_size\n",
    "    output_size: horizon_size * quantile_size\n",
    "    \"\"\"\n",
    "    def __init__(self,\n",
    "                covariate_size, \n",
    "                quantile_size,\n",
    "                context_size,\n",
    "                quantiles,\n",
    "                horizon_size):\n",
    "        super().__init__()\n",
    "        self.covariate_size = covariate_size\n",
    "        self.quantiles = quantiles\n",
    "        self.quantile_size = quantile_size\n",
    "        self.horizon_size = horizon_size\n",
    "        self.context_size = context_size\n",
    "\n",
    "        self.linear1 = nn.Linear(in_features= horizon_size*context_size + horizon_size* covariate_size + context_size,\n",
    "                                 out_features= horizon_size* context_size)\n",
    "        self.linear2 = nn.Linear(in_features= horizon_size* context_size,\n",
    "                                 out_features= horizon_size* quantile_size)\n",
    "        self.activation = nn.ReLU()\n",
    "    \n",
    "    def forward(self,input):\n",
    "        layer1_output = self.linear1(input)\n",
    "        layer1_output = self.activation(layer1_output)\n",
    "\n",
    "        layer2_output = self.linear2(layer1_output)\n",
    "        layer2_output = self.activation(layer2_output)\n",
    "        return layer2_output"
   ]
  },
  {
   "cell_type": "code",
   "execution_count": 669,
   "metadata": {},
   "outputs": [],
   "source": [
    "class MQRNN:\n",
    "    \"\"\"\n",
    "    This class holds the encoder and the global decoder and local decoder.\n",
    "    \"\"\"\n",
    "    def __init__(self, \n",
    "                horizon_size:int, \n",
    "                hidden_size:int, \n",
    "                quantiles:list,\n",
    "                dropout:float,\n",
    "                layer_size:int,\n",
    "                by_direction:bool,\n",
    "                lr:float,\n",
    "                batch_size:int, \n",
    "                num_epochs:int, \n",
    "                context_size:int, \n",
    "                covariate_size:int,\n",
    "                device):\n",
    "        print(f\"device is: {device}\")\n",
    "        self.device = device\n",
    "        self.horizon_size = horizon_size\n",
    "        self.quantile_size = len(quantiles)\n",
    "        self.quantiles = quantiles\n",
    "        self.lr = lr \n",
    "        self.batch_size = batch_size\n",
    "        self.num_epochs = num_epochs\n",
    "        self.covariate_size = covariate_size\n",
    "        quantile_size = self.quantile_size\n",
    "        self.encoder = Encoder(horizon_size=horizon_size,\n",
    "                               covariate_size=covariate_size,\n",
    "                               hidden_size=hidden_size, \n",
    "                               dropout=dropout,\n",
    "                               layer_size=layer_size,\n",
    "                               by_direction=by_direction,\n",
    "                               device=device)\n",
    "        \n",
    "        self.gdecoder = GlobalDecoder(hidden_size=hidden_size,\n",
    "                                    covariate_size=covariate_size,\n",
    "                                    horizon_size=horizon_size,\n",
    "                                    context_size=context_size)\n",
    "        self.ldecoder = LocalDecoder(covariate_size=covariate_size,\n",
    "                                    quantile_size=quantile_size,\n",
    "                                    context_size=context_size,\n",
    "                                    quantiles=quantiles,\n",
    "                                    horizon_size=horizon_size)\n",
    "        self.encoder.double()\n",
    "        self.gdecoder.double()\n",
    "        self.ldecoder.double()\n",
    "    \n",
    "    def train(self, dataset:MQRNN_dataset):\n",
    "        \n",
    "        train_fn(encoder=self.encoder, \n",
    "                gdecoder=self.gdecoder, \n",
    "                ldecoder=self.ldecoder,\n",
    "                dataset=dataset,\n",
    "                lr=self.lr,\n",
    "                batch_size=self.batch_size,\n",
    "                num_epochs=self.num_epochs,\n",
    "                device=self.device)\n",
    "        print(\"training finished\")\n",
    "    \n",
    "    def predict(self, train_target_df, train_covariate_df, test_covariate_df, col_name):\n",
    "\n",
    "        input_target_tensor = torch.tensor(train_target_df[[col_name]].to_numpy())\n",
    "        full_covariate = train_covariate_df.to_numpy()\n",
    "        full_covariate_tensor = torch.tensor(full_covariate)\n",
    "\n",
    "        next_covariate = test_covariate_df.to_numpy()\n",
    "        next_covariate = next_covariate.reshape(-1, self.horizon_size * self.covariate_size)\n",
    "        next_covariate_tensor = torch.tensor(next_covariate) #[1,horizon_size * covariate_size]\n",
    "        print(f\"next_covariate_tensor: {next_covariate_tensor.shape}\")\n",
    "        input_target_tensor = input_target_tensor.to(self.device)\n",
    "        full_covariate_tensor = full_covariate_tensor.to(self.device)\n",
    "        next_covariate_tensor = next_covariate_tensor.to(self.device)\n",
    "\n",
    "        with torch.no_grad():\n",
    "            input_target_covariate_tensor = torch.cat([input_target_tensor, full_covariate_tensor], dim=1)\n",
    "            input_target_covariate_tensor = torch.unsqueeze(input_target_covariate_tensor, dim= 0) #[1, seq_len, 1+covariate_size]\n",
    "            input_target_covariate_tensor = input_target_covariate_tensor.permute(1,0,2) #[seq_len, 1, 1+covariate_size]\n",
    "            print(f\"input_target_covariate_tensor shape: {input_target_covariate_tensor.shape}\")\n",
    "            outputs = self.encoder(input_target_covariate_tensor) #[seq_len,1,hidden_size]\n",
    "            hidden = torch.unsqueeze(outputs[-1],dim=0) #[1,1,hidden_size]\n",
    "\n",
    "            next_covariate_tensor = torch.unsqueeze(next_covariate_tensor, dim=0)\n",
    "\n",
    "            print(f\"hidden shape: {hidden.shape}\")\n",
    "            print(f\"next_covariate_tensor: {next_covariate_tensor.shape}\")\n",
    "            gdecoder_input = torch.cat([hidden, next_covariate_tensor], dim=2) #[1,1, hidden + covariate_size* horizon_size]\n",
    "            gdecoder_output = self.gdecoder( gdecoder_input) #[1,1,(horizon_size+1)*context_size]\n",
    "\n",
    "            local_decoder_input = torch.cat([gdecoder_output, next_covariate_tensor], dim=2) #[1, 1,(horizon_size+1)*context_size + covariate_size * horizon_size]\n",
    "            local_decoder_output = self.ldecoder( local_decoder_input) #[seq_len, batch_size, horizon_size* quantile_size]\n",
    "            local_decoder_output = local_decoder_output.view(self.horizon_size,self.quantile_size)\n",
    "            output_array = local_decoder_output.cpu().numpy()\n",
    "            result_dict= {}\n",
    "            for i in range(self.quantile_size):\n",
    "                result_dict[self.quantiles[i]] = output_array[:,i]\n",
    "            return result_dict"
   ]
  },
  {
   "cell_type": "code",
   "execution_count": 670,
   "metadata": {},
   "outputs": [],
   "source": [
    "def calc_loss(cur_series_covariate_tensor : torch.Tensor, \n",
    "            next_covariate_tensor: torch.Tensor,\n",
    "            cur_real_vals_tensor: torch.Tensor, \n",
    "            encoder: Encoder,\n",
    "            gdecoder: GlobalDecoder,\n",
    "            ldecoder: LocalDecoder,\n",
    "            device):\n",
    "    loss = torch.tensor([0.0], device=device)\n",
    "\n",
    "    cur_series_covariate_tensor = cur_series_covariate_tensor.double().to(device) #[batch_size, seq_len, 1+covariate_size]\n",
    "    next_covariate_tensor = next_covariate_tensor.double().to(device) # [batch_size, seq_len, covariate_size * horizon_size]\n",
    "    cur_real_vals_tensor = cur_real_vals_tensor.double().to(device) # [batch_size, seq_len, horizon_size]\n",
    "\n",
    "    encoder.to(device)\n",
    "    gdecoder.to(device)\n",
    "    ldecoder.to(device)\n",
    "\n",
    "    cur_series_covariate_tensor = cur_series_covariate_tensor.permute(1,0,2) #[seq_len, batch_size, 1+covariate_size]\n",
    "    next_covariate_tensor = next_covariate_tensor.permute(1,0,2) #[seq_len, batch_size, covariate_size * horizon_size]\n",
    "    cur_real_vals_tensor = cur_real_vals_tensor.permute(1,0,2) #[seq_len, batch_size, horizon_size]\n",
    "    enc_hs = encoder(cur_series_covariate_tensor) #[seq_len, batch_size, hidden_size]\n",
    "    hidden_and_covariate = torch.cat([enc_hs, next_covariate_tensor], dim=2) #[seq_len, batch_size, hidden_size+covariate_size * horizon_size]\n",
    "    gdecoder_output = gdecoder(hidden_and_covariate) #[seq_len, batch_size, (horizon_size+1)*context_size]\n",
    "\n",
    "    context_size = ldecoder.context_size\n",
    "    \n",
    "    quantile_size = ldecoder.quantile_size\n",
    "    horizon_size = encoder.horizon_size\n",
    "    total_loss = torch.tensor([0.0],device=device)\n",
    "\n",
    "    local_decoder_input = torch.cat([gdecoder_output, next_covariate_tensor], dim=2) #[seq_len, batch_size,(horizon_size+1)*context_size + covariate_size * horizon_size]\n",
    "    local_decoder_output = ldecoder( local_decoder_input) #[seq_len, batch_size, horizon_size* quantile_size]\n",
    "    seq_len = local_decoder_output.shape[0]\n",
    "    batch_size = local_decoder_output.shape[1]\n",
    "    \n",
    "    local_decoder_output = local_decoder_output.view(seq_len, batch_size, horizon_size, quantile_size) #[[seq_len, batch_size, horizon_size, quantile_size]]\n",
    "    for i in range(quantile_size):\n",
    "        p = ldecoder.quantiles[i]\n",
    "        errors = cur_real_vals_tensor - local_decoder_output[:,:,:,i]\n",
    "        cur_loss = torch.max( (p-1)*errors, p*errors ) # CAUTION\n",
    "        total_loss += torch.sum(cur_loss)\n",
    "    return total_loss\n",
    "\n",
    "\n",
    "def train_fn(encoder:Encoder, \n",
    "            gdecoder: GlobalDecoder, \n",
    "            ldecoder: LocalDecoder,\n",
    "            dataset: MQRNN_dataset, \n",
    "            lr: float, \n",
    "            batch_size: int,\n",
    "            num_epochs: int, \n",
    "            device):\n",
    "    \n",
    "    encoder_optimizer = torch.optim.Adam(encoder.parameters(),lr=lr)\n",
    "    gdecoder_optimizer = torch.optim.Adam(gdecoder.parameters(),lr=lr)\n",
    "    ldecoder_optimizer = torch.optim.Adam(ldecoder.parameters(), lr=lr)\n",
    "\n",
    "    data_iter = DataLoader(dataset=dataset, batch_size=batch_size, shuffle=True,num_workers=0)\n",
    "    l_sum = 0.0\n",
    "    for i in range(num_epochs):\n",
    "        print(f\"epoch_num:{i}\")\n",
    "        epoch_loss_sum = 0.0\n",
    "        total_sample = 0\n",
    "        for (cur_series_tensor, cur_covariate_tensor, cur_real_vals_tensor) in data_iter:\n",
    "            batch_size = cur_series_tensor.shape[0]\n",
    "            seq_len = cur_series_tensor.shape[1]\n",
    "            horizon_size = cur_covariate_tensor.shape[-1]\n",
    "            total_sample += batch_size * seq_len * horizon_size\n",
    "            encoder_optimizer.zero_grad()\n",
    "            gdecoder_optimizer.zero_grad()\n",
    "            ldecoder_optimizer.zero_grad()\n",
    "            loss = calc_loss(cur_series_tensor, cur_covariate_tensor, cur_real_vals_tensor, \n",
    "                             encoder, gdecoder, ldecoder,device)\n",
    "            loss.backward()\n",
    "            encoder_optimizer.step()\n",
    "            gdecoder_optimizer.step()\n",
    "            ldecoder_optimizer.step()\n",
    "            epoch_loss_sum += loss.item()\n",
    "        epoch_loss_mean = epoch_loss_sum/ total_sample\n",
    "        print(f\"epoch_num {i+1}, current loss is: {epoch_loss_mean}\")"
   ]
  },
  {
   "cell_type": "code",
   "execution_count": 717,
   "metadata": {},
   "outputs": [
    {
     "data": {
      "text/plain": [
       "<matplotlib.axes._subplots.AxesSubplot at 0x7fe49a9d1d50>"
      ]
     },
     "execution_count": 717,
     "metadata": {},
     "output_type": "execute_result"
    },
    {
     "data": {
      "image/png": "[encoded data removed]",
      "text/plain": [
       "<Figure size 432x432 with 1 Axes>"
      ]
     },
     "metadata": {
      "needs_background": "light"
     },
     "output_type": "display_data"
    }
   ],
   "source": [
    "plt.figure(figsize=(6,6))\n",
    "eldata['2013-01-01':'2014-01-01']['MT_046'].plot(kind=\"hist\", ax=plt.gca())"
   ]
  },
  {
   "cell_type": "code",
   "execution_count": 732,
   "metadata": {},
   "outputs": [],
   "source": [
    "LIMH, LIML = 400, 0"
   ]
  },
  {
   "cell_type": "code",
   "execution_count": 733,
   "metadata": {},
   "outputs": [
    {
     "data": {
      "text/plain": [
       "<matplotlib.axes._subplots.AxesSubplot at 0x7fe49a4e5290>"
      ]
     },
     "execution_count": 733,
     "metadata": {},
     "output_type": "execute_result"
    },
    {
     "data": {
      "image/png": "[encoded data removed]",
      "text/plain": [
       "<Figure size 432x432 with 1 Axes>"
      ]
     },
     "metadata": {
      "needs_background": "light"
     },
     "output_type": "display_data"
    }
   ],
   "source": [
    "mt_046_train = ((2 * eldata['2013-01-01':'2014-01-01']['MT_046'] - LIML - LIMH) / (LIMH - LIML))\n",
    "mt_046_train.plot(kind=\"hist\", ax=plt.gca())"
   ]
  },
  {
   "cell_type": "code",
   "execution_count": 734,
   "metadata": {},
   "outputs": [
    {
     "data": {
      "text/plain": [
       "<matplotlib.axes._subplots.AxesSubplot at 0x7fe49a466650>"
      ]
     },
     "execution_count": 734,
     "metadata": {},
     "output_type": "execute_result"
    },
    {
     "data": {
      "image/png": "[encoded data removed]",
      "text/plain": [
       "<Figure size 432x432 with 1 Axes>"
      ]
     },
     "metadata": {
      "needs_background": "light"
     },
     "output_type": "display_data"
    }
   ],
   "source": [
    "mt_046_test = ((2 * eldata['2014-01-15':'2014-01-25']['MT_046'] - LIML - LIMH) / (LIMH - LIML))\n",
    "mt_046_test.plot(kind=\"hist\", ax=plt.gca())"
   ]
  },
  {
   "cell_type": "code",
   "execution_count": 767,
   "metadata": {},
   "outputs": [],
   "source": [
    "train_data = data['2013-01-01':'2014-01-01'][['MT_046'] + calendar_features]\n",
    "train_data = train_data / train_data.max()\n",
    "test_data = data['2014-01-15':'2014-01-25'][['MT_046'] + calendar_features]\n",
    "test_data = test_data / test_data.max()"
   ]
  },
  {
   "cell_type": "code",
   "execution_count": 768,
   "metadata": {},
   "outputs": [],
   "source": [
    "# train_data = data['2013-01-01':'2014-01-01'][calendar_features].join(mt_046_train)\n",
    "# test_data = data['2014-01-15':'2014-01-25'][calendar_features].join(mt_046_test)"
   ]
  },
  {
   "cell_type": "code",
   "execution_count": 769,
   "metadata": {},
   "outputs": [],
   "source": [
    "horizon_size = 24\n",
    "hidden_size = 10\n",
    "quantiles = [0.5]\n",
    "dropout = 0.3\n",
    "layer_size = 2\n",
    "bidirection = False\n",
    "lr = 1e-4\n",
    "batch_size = 1\n",
    "num_epochs = 100\n",
    "context_size = 5\n",
    "covariate_size = train_data[calendar_features].shape[1]\n",
    "device = torch.device(\"cuda:0\" if torch.cuda.is_available() else \"cpu\")"
   ]
  },
  {
   "cell_type": "code",
   "execution_count": null,
   "metadata": {},
   "outputs": [],
   "source": []
  },
  {
   "cell_type": "code",
   "execution_count": 770,
   "metadata": {},
   "outputs": [
    {
     "data": {
      "text/plain": [
       "((8784, 4), (264, 4))"
      ]
     },
     "execution_count": 770,
     "metadata": {},
     "output_type": "execute_result"
    }
   ],
   "source": [
    "train_data.shape, test_data.shape"
   ]
  },
  {
   "cell_type": "code",
   "execution_count": 771,
   "metadata": {},
   "outputs": [
    {
     "name": "stdout",
     "output_type": "stream",
     "text": [
      "self.covariate_df.shape[0] : 8784\n",
      "full_covariate shape: (8760, 1, 24, 3)\n"
     ]
    }
   ],
   "source": [
    "dset = MQRNN_dataset(\n",
    "    train_data[['MT_046']], \n",
    "    train_data[calendar_features], \n",
    "    horizon_size, len(quantiles))"
   ]
  },
  {
   "cell_type": "code",
   "execution_count": null,
   "metadata": {},
   "outputs": [],
   "source": []
  },
  {
   "cell_type": "code",
   "execution_count": 772,
   "metadata": {},
   "outputs": [
    {
     "name": "stdout",
     "output_type": "stream",
     "text": [
      "device is: cuda:0\n"
     ]
    }
   ],
   "source": [
    "net = MQRNN(horizon_size,hidden_size,quantiles,dropout,layer_size,by_direction,lr,batch_size,num_epochs,context_size,covariate_size,device)"
   ]
  },
  {
   "cell_type": "code",
   "execution_count": 774,
   "metadata": {
    "scrolled": false
   },
   "outputs": [
    {
     "name": "stdout",
     "output_type": "stream",
     "text": [
      "epoch_num:0\n",
      "epoch_num 1, current loss is: 0.014641112352252189\n",
      "epoch_num:1\n",
      "epoch_num 2, current loss is: 0.014510348168561327\n",
      "epoch_num:2\n",
      "epoch_num 3, current loss is: 0.01439054770738204\n",
      "epoch_num:3\n",
      "epoch_num 4, current loss is: 0.014278039879027144\n",
      "epoch_num:4\n",
      "epoch_num 5, current loss is: 0.014165276576273941\n",
      "epoch_num:5\n",
      "epoch_num 6, current loss is: 0.014057244969043316\n",
      "epoch_num:6\n",
      "epoch_num 7, current loss is: 0.0139523688577142\n",
      "epoch_num:7\n",
      "epoch_num 8, current loss is: 0.013849030237763984\n",
      "epoch_num:8\n",
      "epoch_num 9, current loss is: 0.013749402964072805\n",
      "epoch_num:9\n",
      "epoch_num 10, current loss is: 0.013651485046355752\n",
      "epoch_num:10\n",
      "epoch_num 11, current loss is: 0.013557598979142884\n",
      "epoch_num:11\n",
      "epoch_num 12, current loss is: 0.013464894287480975\n",
      "epoch_num:12\n",
      "epoch_num 13, current loss is: 0.013373477806118405\n",
      "epoch_num:13\n",
      "epoch_num 14, current loss is: 0.013286186075041223\n",
      "epoch_num:14\n",
      "epoch_num 15, current loss is: 0.01320071517967561\n",
      "epoch_num:15\n",
      "epoch_num 16, current loss is: 0.013114685337293094\n",
      "epoch_num:16\n",
      "epoch_num 17, current loss is: 0.01303453295440132\n",
      "epoch_num:17\n",
      "epoch_num 18, current loss is: 0.012954132064594828\n",
      "epoch_num:18\n",
      "epoch_num 19, current loss is: 0.01287573781006231\n",
      "epoch_num:19\n",
      "epoch_num 20, current loss is: 0.012798870208600885\n",
      "epoch_num:20\n",
      "epoch_num 21, current loss is: 0.012723990662457193\n",
      "epoch_num:21\n",
      "epoch_num 22, current loss is: 0.012650187979610603\n",
      "epoch_num:22\n",
      "epoch_num 23, current loss is: 0.012579689432315449\n",
      "epoch_num:23\n",
      "epoch_num 24, current loss is: 0.012511173521184122\n",
      "epoch_num:24\n",
      "epoch_num 25, current loss is: 0.012443266877784517\n",
      "epoch_num:25\n",
      "epoch_num 26, current loss is: 0.012377983104874191\n",
      "epoch_num:26\n",
      "epoch_num 27, current loss is: 0.01231345027186192\n",
      "epoch_num:27\n",
      "epoch_num 28, current loss is: 0.012249282070490867\n",
      "epoch_num:28\n",
      "epoch_num 29, current loss is: 0.012188620835860208\n",
      "epoch_num:29\n",
      "epoch_num 30, current loss is: 0.012127257433716626\n",
      "epoch_num:30\n",
      "epoch_num 31, current loss is: 0.012070100843331827\n",
      "epoch_num:31\n",
      "epoch_num 32, current loss is: 0.012015075528760782\n",
      "epoch_num:32\n",
      "epoch_num 33, current loss is: 0.011960005312628821\n",
      "epoch_num:33\n",
      "epoch_num 34, current loss is: 0.011909975683791936\n",
      "epoch_num:34\n",
      "epoch_num 35, current loss is: 0.011860770540513222\n",
      "epoch_num:35\n",
      "epoch_num 36, current loss is: 0.011811177540647989\n",
      "epoch_num:36\n",
      "epoch_num 37, current loss is: 0.011767999270674784\n",
      "epoch_num:37\n",
      "epoch_num 38, current loss is: 0.011724623588666524\n",
      "epoch_num:38\n",
      "epoch_num 39, current loss is: 0.011680714507081193\n",
      "epoch_num:39\n",
      "epoch_num 40, current loss is: 0.011641110556189752\n",
      "epoch_num:40\n",
      "epoch_num 41, current loss is: 0.011601075395480562\n",
      "epoch_num:41\n",
      "epoch_num 42, current loss is: 0.01156623565503512\n",
      "epoch_num:42\n",
      "epoch_num 43, current loss is: 0.01152796171934456\n",
      "epoch_num:43\n",
      "epoch_num 44, current loss is: 0.011494095878272053\n",
      "epoch_num:44\n",
      "epoch_num 45, current loss is: 0.011460369386871354\n",
      "epoch_num:45\n",
      "epoch_num 46, current loss is: 0.011430301598520341\n",
      "epoch_num:46\n",
      "epoch_num 47, current loss is: 0.011399373713028365\n",
      "epoch_num:47\n",
      "epoch_num 48, current loss is: 0.011370603424954814\n",
      "epoch_num:48\n",
      "epoch_num 49, current loss is: 0.01134270716898941\n",
      "epoch_num:49\n",
      "epoch_num 50, current loss is: 0.01131609370416944\n",
      "epoch_num:50\n",
      "epoch_num 51, current loss is: 0.011289737262077467\n",
      "epoch_num:51\n",
      "epoch_num 52, current loss is: 0.011264577678833317\n",
      "epoch_num:52\n",
      "epoch_num 53, current loss is: 0.011244018183088376\n",
      "epoch_num:53\n",
      "epoch_num 54, current loss is: 0.011218528031456114\n",
      "epoch_num:54\n",
      "epoch_num 55, current loss is: 0.01119797318070023\n",
      "epoch_num:55\n",
      "epoch_num 56, current loss is: 0.011177902182971445\n",
      "epoch_num:56\n",
      "epoch_num 57, current loss is: 0.011161374537730688\n",
      "epoch_num:57\n",
      "epoch_num 58, current loss is: 0.011137620063677226\n",
      "epoch_num:58\n",
      "epoch_num 59, current loss is: 0.011117319913154807\n",
      "epoch_num:59\n",
      "epoch_num 60, current loss is: 0.011101484371284009\n",
      "epoch_num:60\n",
      "epoch_num 61, current loss is: 0.011080785525867262\n",
      "epoch_num:61\n",
      "epoch_num 62, current loss is: 0.011061247153550703\n",
      "epoch_num:62\n",
      "epoch_num 63, current loss is: 0.011044019663291556\n",
      "epoch_num:63\n",
      "epoch_num 64, current loss is: 0.011027051518254932\n",
      "epoch_num:64\n",
      "epoch_num 65, current loss is: 0.011009177600351583\n",
      "epoch_num:65\n",
      "epoch_num 66, current loss is: 0.010988967252950992\n",
      "epoch_num:66\n",
      "epoch_num 67, current loss is: 0.010970257237016822\n",
      "epoch_num:67\n",
      "epoch_num 68, current loss is: 0.01095492180563483\n",
      "epoch_num:68\n",
      "epoch_num 69, current loss is: 0.010937145432501743\n",
      "epoch_num:69\n",
      "epoch_num 70, current loss is: 0.010920351474554875\n",
      "epoch_num:70\n",
      "epoch_num 71, current loss is: 0.010904533738475473\n",
      "epoch_num:71\n",
      "epoch_num 72, current loss is: 0.010891269972214295\n",
      "epoch_num:72\n",
      "epoch_num 73, current loss is: 0.010874821291787561\n",
      "epoch_num:73\n",
      "epoch_num 74, current loss is: 0.010858164361017964\n",
      "epoch_num:74\n",
      "epoch_num 75, current loss is: 0.010845018267812976\n",
      "epoch_num:75\n",
      "epoch_num 76, current loss is: 0.010828002124556063\n",
      "epoch_num:76\n",
      "epoch_num 77, current loss is: 0.01082076445743555\n",
      "epoch_num:77\n",
      "epoch_num 78, current loss is: 0.010802265014338772\n",
      "epoch_num:78\n",
      "epoch_num 79, current loss is: 0.01079037384234486\n",
      "epoch_num:79\n",
      "epoch_num 80, current loss is: 0.010776409456900447\n",
      "epoch_num:80\n",
      "epoch_num 81, current loss is: 0.010762645580150464\n",
      "epoch_num:81\n",
      "epoch_num 82, current loss is: 0.010747111962568572\n",
      "epoch_num:82\n",
      "epoch_num 83, current loss is: 0.010740451048256357\n",
      "epoch_num:83\n",
      "epoch_num 84, current loss is: 0.010729337137765173\n",
      "epoch_num:84\n",
      "epoch_num 85, current loss is: 0.010712893102327498\n",
      "epoch_num:85\n",
      "epoch_num 86, current loss is: 0.01070242252282114\n",
      "epoch_num:86\n",
      "epoch_num 87, current loss is: 0.010693782069004471\n",
      "epoch_num:87\n",
      "epoch_num 88, current loss is: 0.010681079572254724\n",
      "epoch_num:88\n",
      "epoch_num 89, current loss is: 0.010667523945847603\n",
      "epoch_num:89\n",
      "epoch_num 90, current loss is: 0.010658041200681364\n",
      "epoch_num:90\n",
      "epoch_num 91, current loss is: 0.01064706122070808\n",
      "epoch_num:91\n",
      "epoch_num 92, current loss is: 0.010635015215745497\n",
      "epoch_num:92\n",
      "epoch_num 93, current loss is: 0.010624690953394533\n",
      "epoch_num:93\n",
      "epoch_num 94, current loss is: 0.010613954835346905\n",
      "epoch_num:94\n",
      "epoch_num 95, current loss is: 0.010610681666389206\n",
      "epoch_num:95\n",
      "epoch_num 96, current loss is: 0.010594448203788924\n",
      "epoch_num:96\n",
      "epoch_num 97, current loss is: 0.01058618554241581\n",
      "epoch_num:97\n",
      "epoch_num 98, current loss is: 0.010579279217848252\n",
      "epoch_num:98\n",
      "epoch_num 99, current loss is: 0.010570800564483843\n",
      "epoch_num:99\n",
      "epoch_num 100, current loss is: 0.010564321578909817\n",
      "training finished\n"
     ]
    }
   ],
   "source": [
    "net.train(dset)"
   ]
  },
  {
   "cell_type": "code",
   "execution_count": 777,
   "metadata": {},
   "outputs": [
    {
     "name": "stdout",
     "output_type": "stream",
     "text": [
      "next_covariate_tensor: torch.Size([1, 72])\n",
      "input_target_covariate_tensor shape: torch.Size([8784, 1, 4])\n",
      "hidden shape: torch.Size([1, 1, 10])\n",
      "next_covariate_tensor: torch.Size([1, 1, 72])\n"
     ]
    },
    {
     "data": {
      "text/plain": [
       "<matplotlib.axes._subplots.AxesSubplot at 0x7fe499fd4990>"
      ]
     },
     "execution_count": 777,
     "metadata": {},
     "output_type": "execute_result"
    },
    {
     "data": {
      "image/png": "[encoded data removed]",
      "text/plain": [
       "<Figure size 432x432 with 1 Axes>"
      ]
     },
     "metadata": {
      "needs_background": "light"
     },
     "output_type": "display_data"
    }
   ],
   "source": [
    "(pd.Series((net.predict(train_data[['MT_046']],\n",
    "                             train_data[calendar_features],\n",
    "                             test_data[calendar_features].iloc[24:48],'MT_046'))[0.5])).plot()"
   ]
  },
  {
   "cell_type": "code",
   "execution_count": 778,
   "metadata": {},
   "outputs": [
    {
     "data": {
      "text/plain": [
       "<matplotlib.axes._subplots.AxesSubplot at 0x7fe49a0cedd0>"
      ]
     },
     "execution_count": 778,
     "metadata": {},
     "output_type": "execute_result"
    },
    {
     "data": {
      "image/png": "[encoded data removed]",
      "text/plain": [
       "<Figure size 432x432 with 1 Axes>"
      ]
     },
     "metadata": {
      "needs_background": "light"
     },
     "output_type": "display_data"
    }
   ],
   "source": [
    "(test_data['MT_046'].iloc[24:48]).plot()"
   ]
  },
  {
   "cell_type": "code",
   "execution_count": null,
   "metadata": {},
   "outputs": [],
   "source": []
  },
  {
   "cell_type": "code",
   "execution_count": null,
   "metadata": {},
   "outputs": [],
   "source": []
  },
  {
   "cell_type": "code",
   "execution_count": null,
   "metadata": {},
   "outputs": [],
   "source": []
  },
  {
   "cell_type": "code",
   "execution_count": null,
   "metadata": {},
   "outputs": [],
   "source": []
  },
  {
   "cell_type": "code",
   "execution_count": null,
   "metadata": {},
   "outputs": [],
   "source": []
  },
  {
   "cell_type": "code",
   "execution_count": null,
   "metadata": {},
   "outputs": [],
   "source": []
  },
  {
   "cell_type": "code",
   "execution_count": null,
   "metadata": {},
   "outputs": [],
   "source": []
  },
  {
   "cell_type": "code",
   "execution_count": null,
   "metadata": {},
   "outputs": [],
   "source": []
  },
  {
   "cell_type": "code",
   "execution_count": null,
   "metadata": {},
   "outputs": [],
   "source": []
  },
  {
   "cell_type": "code",
   "execution_count": null,
   "metadata": {},
   "outputs": [],
   "source": []
  },
  {
   "cell_type": "code",
   "execution_count": null,
   "metadata": {},
   "outputs": [],
   "source": []
  },
  {
   "cell_type": "code",
   "execution_count": null,
   "metadata": {},
   "outputs": [],
   "source": []
  },
  {
   "cell_type": "code",
   "execution_count": null,
   "metadata": {},
   "outputs": [],
   "source": []
  }
 ],
 "metadata": {
  "kernelspec": {
   "display_name": "Environment (conda_pytorch_latest_p37)",
   "language": "python",
   "name": "conda_pytorch_latest_p37"
  },
  "language_info": {
   "codemirror_mode": {
    "name": "ipython",
    "version": 3
   },
   "file_extension": ".py",
   "mimetype": "text/x-python",
   "name": "python",
   "nbconvert_exporter": "python",
   "pygments_lexer": "ipython3",
   "version": "3.7.6"
  }
 },
 "nbformat": 4,
 "nbformat_minor": 4
}
