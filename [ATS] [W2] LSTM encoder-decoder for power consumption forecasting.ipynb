{
 "cells": [
  {
   "cell_type": "code",
   "execution_count": 1,
   "metadata": {
    "slideshow": {
     "slide_type": "slide"
    }
   },
   "outputs": [
    {
     "name": "stdout",
     "output_type": "stream",
     "text": [
      "Populating the interactive namespace from numpy and matplotlib\n"
     ]
    }
   ],
   "source": [
    "%pylab inline\n",
    "plt.style.use(\"bmh\")\n",
    "plt.rcParams[\"figure.figsize\"] = (12,4)"
   ]
  },
  {
   "cell_type": "code",
   "execution_count": 2,
   "metadata": {
    "slideshow": {
     "slide_type": "-"
    }
   },
   "outputs": [],
   "source": [
    "import pathlib"
   ]
  },
  {
   "cell_type": "code",
   "execution_count": 3,
   "metadata": {
    "slideshow": {
     "slide_type": "-"
    }
   },
   "outputs": [],
   "source": [
    "import numpy as np\n",
    "import pandas as pd"
   ]
  },
  {
   "cell_type": "code",
   "execution_count": 5,
   "metadata": {
    "slideshow": {
     "slide_type": "-"
    }
   },
   "outputs": [],
   "source": [
    "DATA_DIR = pathlib.Path(\"../data\")"
   ]
  },
  {
   "cell_type": "markdown",
   "metadata": {
    "slideshow": {
     "slide_type": "slide"
    }
   },
   "source": [
    "# Loading data"
   ]
  },
  {
   "cell_type": "code",
   "execution_count": 6,
   "metadata": {
    "slideshow": {
     "slide_type": "-"
    }
   },
   "outputs": [],
   "source": [
    "df = pd.read_csv(DATA_DIR / \"AEP_hourly.csv\", parse_dates=[\"Datetime\"], index_col=\"Datetime\")"
   ]
  },
  {
   "cell_type": "code",
   "execution_count": 7,
   "metadata": {
    "slideshow": {
     "slide_type": "-"
    }
   },
   "outputs": [
    {
     "data": {
      "text/html": [
       "<div>\n",
       "<style scoped>\n",
       "    .dataframe tbody tr th:only-of-type {\n",
       "        vertical-align: middle;\n",
       "    }\n",
       "\n",
       "    .dataframe tbody tr th {\n",
       "        vertical-align: top;\n",
       "    }\n",
       "\n",
       "    .dataframe thead th {\n",
       "        text-align: right;\n",
       "    }\n",
       "</style>\n",
       "<table border=\"1\" class=\"dataframe\">\n",
       "  <thead>\n",
       "    <tr style=\"text-align: right;\">\n",
       "      <th></th>\n",
       "      <th>AEP_MW</th>\n",
       "    </tr>\n",
       "    <tr>\n",
       "      <th>Datetime</th>\n",
       "      <th></th>\n",
       "    </tr>\n",
       "  </thead>\n",
       "  <tbody>\n",
       "    <tr>\n",
       "      <th>2004-12-31 01:00:00</th>\n",
       "      <td>13478.0</td>\n",
       "    </tr>\n",
       "    <tr>\n",
       "      <th>2004-12-31 02:00:00</th>\n",
       "      <td>12865.0</td>\n",
       "    </tr>\n",
       "    <tr>\n",
       "      <th>2004-12-31 03:00:00</th>\n",
       "      <td>12577.0</td>\n",
       "    </tr>\n",
       "    <tr>\n",
       "      <th>2004-12-31 04:00:00</th>\n",
       "      <td>12517.0</td>\n",
       "    </tr>\n",
       "    <tr>\n",
       "      <th>2004-12-31 05:00:00</th>\n",
       "      <td>12670.0</td>\n",
       "    </tr>\n",
       "    <tr>\n",
       "      <th>...</th>\n",
       "      <td>...</td>\n",
       "    </tr>\n",
       "    <tr>\n",
       "      <th>2018-01-01 20:00:00</th>\n",
       "      <td>21089.0</td>\n",
       "    </tr>\n",
       "    <tr>\n",
       "      <th>2018-01-01 21:00:00</th>\n",
       "      <td>20999.0</td>\n",
       "    </tr>\n",
       "    <tr>\n",
       "      <th>2018-01-01 22:00:00</th>\n",
       "      <td>20820.0</td>\n",
       "    </tr>\n",
       "    <tr>\n",
       "      <th>2018-01-01 23:00:00</th>\n",
       "      <td>20415.0</td>\n",
       "    </tr>\n",
       "    <tr>\n",
       "      <th>2018-01-02 00:00:00</th>\n",
       "      <td>19993.0</td>\n",
       "    </tr>\n",
       "  </tbody>\n",
       "</table>\n",
       "<p>121273 rows × 1 columns</p>\n",
       "</div>"
      ],
      "text/plain": [
       "                      AEP_MW\n",
       "Datetime                    \n",
       "2004-12-31 01:00:00  13478.0\n",
       "2004-12-31 02:00:00  12865.0\n",
       "2004-12-31 03:00:00  12577.0\n",
       "2004-12-31 04:00:00  12517.0\n",
       "2004-12-31 05:00:00  12670.0\n",
       "...                      ...\n",
       "2018-01-01 20:00:00  21089.0\n",
       "2018-01-01 21:00:00  20999.0\n",
       "2018-01-01 22:00:00  20820.0\n",
       "2018-01-01 23:00:00  20415.0\n",
       "2018-01-02 00:00:00  19993.0\n",
       "\n",
       "[121273 rows x 1 columns]"
      ]
     },
     "execution_count": 7,
     "metadata": {},
     "output_type": "execute_result"
    }
   ],
   "source": [
    "df"
   ]
  },
  {
   "cell_type": "markdown",
   "metadata": {
    "slideshow": {
     "slide_type": "slide"
    }
   },
   "source": [
    "## Fix timestamps"
   ]
  },
  {
   "cell_type": "code",
   "execution_count": 8,
   "metadata": {
    "slideshow": {
     "slide_type": "-"
    }
   },
   "outputs": [
    {
     "data": {
      "text/plain": [
       "(False, False)"
      ]
     },
     "execution_count": 8,
     "metadata": {},
     "output_type": "execute_result"
    }
   ],
   "source": [
    "df.index.is_monotonic, df.index.is_unique"
   ]
  },
  {
   "cell_type": "code",
   "execution_count": 9,
   "metadata": {
    "slideshow": {
     "slide_type": "-"
    }
   },
   "outputs": [
    {
     "data": {
      "text/html": [
       "<div>\n",
       "<style scoped>\n",
       "    .dataframe tbody tr th:only-of-type {\n",
       "        vertical-align: middle;\n",
       "    }\n",
       "\n",
       "    .dataframe tbody tr th {\n",
       "        vertical-align: top;\n",
       "    }\n",
       "\n",
       "    .dataframe thead th {\n",
       "        text-align: right;\n",
       "    }\n",
       "</style>\n",
       "<table border=\"1\" class=\"dataframe\">\n",
       "  <thead>\n",
       "    <tr style=\"text-align: right;\">\n",
       "      <th></th>\n",
       "      <th>AEP_MW</th>\n",
       "    </tr>\n",
       "    <tr>\n",
       "      <th>Datetime</th>\n",
       "      <th></th>\n",
       "    </tr>\n",
       "  </thead>\n",
       "  <tbody>\n",
       "    <tr>\n",
       "      <th>2004-10-01 01:00:00</th>\n",
       "      <td>12379.0</td>\n",
       "    </tr>\n",
       "    <tr>\n",
       "      <th>2004-10-01 02:00:00</th>\n",
       "      <td>11935.0</td>\n",
       "    </tr>\n",
       "    <tr>\n",
       "      <th>2004-10-01 03:00:00</th>\n",
       "      <td>11692.0</td>\n",
       "    </tr>\n",
       "    <tr>\n",
       "      <th>2004-10-01 04:00:00</th>\n",
       "      <td>11597.0</td>\n",
       "    </tr>\n",
       "    <tr>\n",
       "      <th>2004-10-01 05:00:00</th>\n",
       "      <td>11681.0</td>\n",
       "    </tr>\n",
       "    <tr>\n",
       "      <th>...</th>\n",
       "      <td>...</td>\n",
       "    </tr>\n",
       "    <tr>\n",
       "      <th>2018-08-02 20:00:00</th>\n",
       "      <td>17673.0</td>\n",
       "    </tr>\n",
       "    <tr>\n",
       "      <th>2018-08-02 21:00:00</th>\n",
       "      <td>17303.0</td>\n",
       "    </tr>\n",
       "    <tr>\n",
       "      <th>2018-08-02 22:00:00</th>\n",
       "      <td>17001.0</td>\n",
       "    </tr>\n",
       "    <tr>\n",
       "      <th>2018-08-02 23:00:00</th>\n",
       "      <td>15964.0</td>\n",
       "    </tr>\n",
       "    <tr>\n",
       "      <th>2018-08-03 00:00:00</th>\n",
       "      <td>14809.0</td>\n",
       "    </tr>\n",
       "  </tbody>\n",
       "</table>\n",
       "<p>121273 rows × 1 columns</p>\n",
       "</div>"
      ],
      "text/plain": [
       "                      AEP_MW\n",
       "Datetime                    \n",
       "2004-10-01 01:00:00  12379.0\n",
       "2004-10-01 02:00:00  11935.0\n",
       "2004-10-01 03:00:00  11692.0\n",
       "2004-10-01 04:00:00  11597.0\n",
       "2004-10-01 05:00:00  11681.0\n",
       "...                      ...\n",
       "2018-08-02 20:00:00  17673.0\n",
       "2018-08-02 21:00:00  17303.0\n",
       "2018-08-02 22:00:00  17001.0\n",
       "2018-08-02 23:00:00  15964.0\n",
       "2018-08-03 00:00:00  14809.0\n",
       "\n",
       "[121273 rows x 1 columns]"
      ]
     },
     "execution_count": 9,
     "metadata": {},
     "output_type": "execute_result"
    }
   ],
   "source": [
    "df = df.sort_index()\n",
    "df"
   ]
  },
  {
   "cell_type": "markdown",
   "metadata": {
    "slideshow": {
     "slide_type": "slide"
    }
   },
   "source": [
    "### New index"
   ]
  },
  {
   "cell_type": "code",
   "execution_count": 10,
   "metadata": {
    "slideshow": {
     "slide_type": "-"
    }
   },
   "outputs": [],
   "source": [
    "new_idx = pd.date_range(\"2004-10-01 01:00:00\", \"2018-08-03 00:00:00\", freq=\"1H\")"
   ]
  },
  {
   "cell_type": "code",
   "execution_count": 11,
   "metadata": {},
   "outputs": [
    {
     "data": {
      "text/html": [
       "<div>\n",
       "<style scoped>\n",
       "    .dataframe tbody tr th:only-of-type {\n",
       "        vertical-align: middle;\n",
       "    }\n",
       "\n",
       "    .dataframe tbody tr th {\n",
       "        vertical-align: top;\n",
       "    }\n",
       "\n",
       "    .dataframe thead th {\n",
       "        text-align: right;\n",
       "    }\n",
       "</style>\n",
       "<table border=\"1\" class=\"dataframe\">\n",
       "  <thead>\n",
       "    <tr style=\"text-align: right;\">\n",
       "      <th></th>\n",
       "      <th>AEP_MW</th>\n",
       "    </tr>\n",
       "    <tr>\n",
       "      <th>Datetime</th>\n",
       "      <th></th>\n",
       "    </tr>\n",
       "  </thead>\n",
       "  <tbody>\n",
       "    <tr>\n",
       "      <th>2004-10-01 01:00:00</th>\n",
       "      <td>12379.0</td>\n",
       "    </tr>\n",
       "    <tr>\n",
       "      <th>2004-10-01 02:00:00</th>\n",
       "      <td>11935.0</td>\n",
       "    </tr>\n",
       "    <tr>\n",
       "      <th>2004-10-01 03:00:00</th>\n",
       "      <td>11692.0</td>\n",
       "    </tr>\n",
       "    <tr>\n",
       "      <th>2004-10-01 04:00:00</th>\n",
       "      <td>11597.0</td>\n",
       "    </tr>\n",
       "    <tr>\n",
       "      <th>2004-10-01 05:00:00</th>\n",
       "      <td>11681.0</td>\n",
       "    </tr>\n",
       "    <tr>\n",
       "      <th>...</th>\n",
       "      <td>...</td>\n",
       "    </tr>\n",
       "    <tr>\n",
       "      <th>2018-08-02 20:00:00</th>\n",
       "      <td>17673.0</td>\n",
       "    </tr>\n",
       "    <tr>\n",
       "      <th>2018-08-02 21:00:00</th>\n",
       "      <td>17303.0</td>\n",
       "    </tr>\n",
       "    <tr>\n",
       "      <th>2018-08-02 22:00:00</th>\n",
       "      <td>17001.0</td>\n",
       "    </tr>\n",
       "    <tr>\n",
       "      <th>2018-08-02 23:00:00</th>\n",
       "      <td>15964.0</td>\n",
       "    </tr>\n",
       "    <tr>\n",
       "      <th>2018-08-03 00:00:00</th>\n",
       "      <td>14809.0</td>\n",
       "    </tr>\n",
       "  </tbody>\n",
       "</table>\n",
       "<p>121269 rows × 1 columns</p>\n",
       "</div>"
      ],
      "text/plain": [
       "                      AEP_MW\n",
       "Datetime                    \n",
       "2004-10-01 01:00:00  12379.0\n",
       "2004-10-01 02:00:00  11935.0\n",
       "2004-10-01 03:00:00  11692.0\n",
       "2004-10-01 04:00:00  11597.0\n",
       "2004-10-01 05:00:00  11681.0\n",
       "...                      ...\n",
       "2018-08-02 20:00:00  17673.0\n",
       "2018-08-02 21:00:00  17303.0\n",
       "2018-08-02 22:00:00  17001.0\n",
       "2018-08-02 23:00:00  15964.0\n",
       "2018-08-03 00:00:00  14809.0\n",
       "\n",
       "[121269 rows x 1 columns]"
      ]
     },
     "execution_count": 11,
     "metadata": {},
     "output_type": "execute_result"
    }
   ],
   "source": [
    "df[~df.index.duplicated(keep='first')]"
   ]
  },
  {
   "cell_type": "code",
   "execution_count": 12,
   "metadata": {},
   "outputs": [],
   "source": [
    "dfi = df[~df.index.duplicated(keep='first')].reindex(new_idx)"
   ]
  },
  {
   "cell_type": "code",
   "execution_count": 13,
   "metadata": {},
   "outputs": [
    {
     "data": {
      "text/plain": [
       "(True, True, <Hour>)"
      ]
     },
     "execution_count": 13,
     "metadata": {},
     "output_type": "execute_result"
    }
   ],
   "source": [
    "dfi.index.is_monotonic, dfi.index.is_unique, dfi.index.freq"
   ]
  },
  {
   "cell_type": "markdown",
   "metadata": {
    "slideshow": {
     "slide_type": "slide"
    }
   },
   "source": [
    "### Missing values"
   ]
  },
  {
   "cell_type": "code",
   "execution_count": 14,
   "metadata": {
    "slideshow": {
     "slide_type": "-"
    }
   },
   "outputs": [
    {
     "data": {
      "text/plain": [
       "AEP_MW    0.000223\n",
       "dtype: float64"
      ]
     },
     "execution_count": 14,
     "metadata": {},
     "output_type": "execute_result"
    }
   ],
   "source": [
    "dfi.isnull().mean()"
   ]
  },
  {
   "cell_type": "code",
   "execution_count": 15,
   "metadata": {},
   "outputs": [],
   "source": [
    "dfi.ffill(inplace=True)"
   ]
  },
  {
   "cell_type": "markdown",
   "metadata": {
    "slideshow": {
     "slide_type": "slide"
    }
   },
   "source": [
    "# DalaModule"
   ]
  },
  {
   "cell_type": "code",
   "execution_count": 17,
   "metadata": {},
   "outputs": [],
   "source": [
    "# PyTorch imports\n",
    "import torch\n",
    "import torch.nn.functional as F\n",
    "from torch import nn\n",
    "from torch.utils.data import DataLoader, Dataset\n",
    "\n",
    "# PyTorch Lightning imports\n",
    "import pytorch_lightning as pl"
   ]
  },
  {
   "cell_type": "code",
   "execution_count": 19,
   "metadata": {
    "slideshow": {
     "slide_type": "slide"
    }
   },
   "outputs": [],
   "source": [
    "class ElectricityDataset(Dataset):\n",
    "    \"\"\"Dataset which samples the data from hourly electricity data.\"\"\"\n",
    "\n",
    "    def __init__(self, df, samples, hist_len=168, fct_len=24, col=\"AEP_MW\"):\n",
    "        self.hist_num = hist_len\n",
    "        self.fct_num = fct_len\n",
    "        self.hist_len = pd.Timedelta(hours=hist_len)\n",
    "        self.fct_len = pd.Timedelta(hours=fct_len)\n",
    "        self.offset = pd.Timedelta(hours=1)\n",
    "\n",
    "        self.max_ts = df.index.max() - self.hist_len - self.fct_len + self.offset\n",
    "        self.raw_data = df\n",
    "\n",
    "        assert samples <= self.raw_data[:self.max_ts].shape[0]\n",
    "        self.samples = samples\n",
    "        self.col = col\n",
    "        self.sample()\n",
    "\n",
    "    def sample(self):\n",
    "        \"\"\"Sample individual series as needed.\"\"\"\n",
    "        \n",
    "        self.sample_idx = (self\n",
    "                           .raw_data[:self.max_ts]\n",
    "                           .index\n",
    "                           .to_series()\n",
    "                           .sample(self.samples, replace=False)\n",
    "                           .index)\n",
    "\n",
    "    def __len__(self):\n",
    "        return self.samples\n",
    "\n",
    "    def __getitem__(self, idx):\n",
    "        start_ts = self.sample_idx[idx]\n",
    "\n",
    "        hs, he = start_ts, start_ts + self.hist_len - self.offset\n",
    "        fs, fe = he + self.offset, he + self.fct_len\n",
    "\n",
    "        hist_data = self.raw_data[hs:].iloc[:self.hist_num]\n",
    "        fct_data = self.raw_data[fs:].iloc[:self.fct_num]\n",
    "\n",
    "        return (torch.Tensor(hist_data[self.col].values),\n",
    "                torch.Tensor(fct_data[self.col].values))"
   ]
  },
  {
   "cell_type": "code",
   "execution_count": 20,
   "metadata": {
    "slideshow": {
     "slide_type": "slide"
    }
   },
   "outputs": [],
   "source": [
    "ds = ElectricityDataset(dfi, 10)"
   ]
  },
  {
   "cell_type": "code",
   "execution_count": 21,
   "metadata": {},
   "outputs": [],
   "source": [
    "start_ts = ds.sample_idx[4]"
   ]
  },
  {
   "cell_type": "code",
   "execution_count": 22,
   "metadata": {},
   "outputs": [
    {
     "data": {
      "text/html": [
       "<div>\n",
       "<style scoped>\n",
       "    .dataframe tbody tr th:only-of-type {\n",
       "        vertical-align: middle;\n",
       "    }\n",
       "\n",
       "    .dataframe tbody tr th {\n",
       "        vertical-align: top;\n",
       "    }\n",
       "\n",
       "    .dataframe thead th {\n",
       "        text-align: right;\n",
       "    }\n",
       "</style>\n",
       "<table border=\"1\" class=\"dataframe\">\n",
       "  <thead>\n",
       "    <tr style=\"text-align: right;\">\n",
       "      <th></th>\n",
       "      <th>AEP_MW</th>\n",
       "    </tr>\n",
       "  </thead>\n",
       "  <tbody>\n",
       "    <tr>\n",
       "      <th>2017-10-25 21:00:00</th>\n",
       "      <td>14844.0</td>\n",
       "    </tr>\n",
       "    <tr>\n",
       "      <th>2017-10-25 22:00:00</th>\n",
       "      <td>14432.0</td>\n",
       "    </tr>\n",
       "    <tr>\n",
       "      <th>2017-10-25 23:00:00</th>\n",
       "      <td>13679.0</td>\n",
       "    </tr>\n",
       "    <tr>\n",
       "      <th>2017-10-26 00:00:00</th>\n",
       "      <td>12913.0</td>\n",
       "    </tr>\n",
       "    <tr>\n",
       "      <th>2017-10-26 01:00:00</th>\n",
       "      <td>12444.0</td>\n",
       "    </tr>\n",
       "  </tbody>\n",
       "</table>\n",
       "</div>"
      ],
      "text/plain": [
       "                      AEP_MW\n",
       "2017-10-25 21:00:00  14844.0\n",
       "2017-10-25 22:00:00  14432.0\n",
       "2017-10-25 23:00:00  13679.0\n",
       "2017-10-26 00:00:00  12913.0\n",
       "2017-10-26 01:00:00  12444.0"
      ]
     },
     "execution_count": 22,
     "metadata": {},
     "output_type": "execute_result"
    }
   ],
   "source": [
    "dfi[start_ts:].head()"
   ]
  },
  {
   "cell_type": "code",
   "execution_count": 23,
   "metadata": {},
   "outputs": [
    {
     "data": {
      "text/html": [
       "<div>\n",
       "<style scoped>\n",
       "    .dataframe tbody tr th:only-of-type {\n",
       "        vertical-align: middle;\n",
       "    }\n",
       "\n",
       "    .dataframe tbody tr th {\n",
       "        vertical-align: top;\n",
       "    }\n",
       "\n",
       "    .dataframe thead th {\n",
       "        text-align: right;\n",
       "    }\n",
       "</style>\n",
       "<table border=\"1\" class=\"dataframe\">\n",
       "  <thead>\n",
       "    <tr style=\"text-align: right;\">\n",
       "      <th></th>\n",
       "      <th>AEP_MW</th>\n",
       "    </tr>\n",
       "  </thead>\n",
       "  <tbody>\n",
       "    <tr>\n",
       "      <th>2017-11-01 21:00:00</th>\n",
       "      <td>15072.0</td>\n",
       "    </tr>\n",
       "    <tr>\n",
       "      <th>2017-11-01 22:00:00</th>\n",
       "      <td>14654.0</td>\n",
       "    </tr>\n",
       "    <tr>\n",
       "      <th>2017-11-01 23:00:00</th>\n",
       "      <td>13811.0</td>\n",
       "    </tr>\n",
       "    <tr>\n",
       "      <th>2017-11-02 00:00:00</th>\n",
       "      <td>12855.0</td>\n",
       "    </tr>\n",
       "    <tr>\n",
       "      <th>2017-11-02 01:00:00</th>\n",
       "      <td>12224.0</td>\n",
       "    </tr>\n",
       "  </tbody>\n",
       "</table>\n",
       "</div>"
      ],
      "text/plain": [
       "                      AEP_MW\n",
       "2017-11-01 21:00:00  15072.0\n",
       "2017-11-01 22:00:00  14654.0\n",
       "2017-11-01 23:00:00  13811.0\n",
       "2017-11-02 00:00:00  12855.0\n",
       "2017-11-02 01:00:00  12224.0"
      ]
     },
     "execution_count": 23,
     "metadata": {},
     "output_type": "execute_result"
    }
   ],
   "source": [
    "dfi[start_ts+pd.Timedelta(days=7):].head()"
   ]
  },
  {
   "cell_type": "code",
   "execution_count": 24,
   "metadata": {
    "slideshow": {
     "slide_type": "slide"
    }
   },
   "outputs": [
    {
     "data": {
      "text/plain": [
       "(tensor([14844., 14432., 13679., 12913., 12444., 12210., 12084., 12210., 12539.,\n",
       "         13383., 14802., 15666., 15527., 15368., 14918., 14535., 14203., 14074.,\n",
       "         13793., 13543., 13508., 13495., 13802., 14500., 14463., 14140., 13547.,\n",
       "         12881., 12388., 12223., 12091., 12017., 12333., 13074., 14335., 15222.,\n",
       "         15056., 14785., 14560., 14196., 13902., 13756., 13626., 13622., 13450.,\n",
       "         13429., 13588., 13779., 13426., 13095., 12664., 12001., 11478., 11139.,\n",
       "         10997., 11022., 11030., 11397., 11859., 12523., 13004., 13351., 13677.,\n",
       "         13741., 13610., 13505., 13368., 13296., 13319., 13472., 13704., 13945.,\n",
       "         13700., 13336., 12898., 12369., 11940., 11581., 11479., 11455., 11536.,\n",
       "         11636., 12088., 12480., 13029., 13481., 13554., 13676., 13741., 13632.,\n",
       "         13539., 13660., 13778., 14042., 14445., 14960., 14848., 14375., 13926.,\n",
       "         13427., 13092., 12953., 12920., 12963., 13328., 14102., 15629., 16476.,\n",
       "         16518., 16295., 16230., 15950., 15671., 15455., 15302., 15072., 14989.,\n",
       "         15040., 15442., 15812., 15732., 15191., 14438., 13715., 13261., 13013.,\n",
       "         12819., 12978., 13278., 14046., 15452., 16212., 16114., 15860., 15623.,\n",
       "         15379., 15134., 14961., 14602., 14240., 14121., 14202., 14477., 14920.,\n",
       "         15181., 14994., 14310., 13597., 13194., 12871., 12728., 12776., 12925.,\n",
       "         13726., 14841., 15697., 15699., 15664., 15634., 15412., 15278., 15084.,\n",
       "         14883., 14668., 14739., 14769., 15095., 15373.]),\n",
       " tensor([15072., 14654., 13811., 12855., 12224., 11914., 11773., 11668., 11883.,\n",
       "         12651., 13891., 14654., 14630., 14627., 14545., 14346., 14268., 14255.,\n",
       "         14066., 13980., 13958., 13899., 14363., 14649.]))"
      ]
     },
     "execution_count": 24,
     "metadata": {},
     "output_type": "execute_result"
    }
   ],
   "source": [
    "ds[4]"
   ]
  },
  {
   "cell_type": "code",
   "execution_count": 25,
   "metadata": {
    "slideshow": {
     "slide_type": "slide"
    }
   },
   "outputs": [],
   "source": [
    "class ElectricityDataModule(pl.LightningDataModule):\n",
    "    \"\"\"DataModule for electricity data.\"\"\"\n",
    "\n",
    "    def __init__(self, df,\n",
    "                 train_range=(\"2004\", \"2015\"),\n",
    "                 val_range=(\"2016\",\"2017\"),\n",
    "                 test_range=(\"2018\", None),\n",
    "                 factor=0.5,\n",
    "                 batch_size=64,\n",
    "                 workers=3):\n",
    "\n",
    "        super().__init__()\n",
    "        self.raw_data = df\n",
    "        self.train_range = train_range\n",
    "        self.val_range = val_range\n",
    "        self.test_range = test_range\n",
    "        self.factor = factor\n",
    "        self.batch_size = batch_size\n",
    "        self.workers = workers\n",
    "\n",
    "    def setup(self, stage=None):\n",
    "        if stage == \"fit\" or stage is None:\n",
    "            train_df = self.raw_data[slice(*self.train_range)]\n",
    "            val_df = self.raw_data[slice(*self.val_range)]\n",
    "\n",
    "            self.train_ds = ElectricityDataset(train_df,\n",
    "                                               samples=int(self.factor * train_df.shape[0]))\n",
    "            self.val_ds = ElectricityDataset(val_df,\n",
    "                                             samples=int(self.factor * val_df.shape[0]))\n",
    "\n",
    "        if stage == \"test\" or stage is None:\n",
    "            test_df = self.raw_data[slice(*self.test_range)]\n",
    "            self.test_ds = ElectricityDataset(test_df,\n",
    "                                              samples=int(self.factor * test_df.shape[0]))\n",
    "\n",
    "    \n",
    "    def train_dataloader(self):\n",
    "        return DataLoader(self.train_ds, batch_size=self.batch_size, num_workers=self.workers)\n",
    "\n",
    "    def val_dataloader(self):\n",
    "        return DataLoader(self.val_ds, batch_size=self.batch_size, num_workers=self.workers)\n",
    "\n",
    "    def test_dataloader(self):\n",
    "        return DataLoader(self.test_ds, batch_size=self.batch_size, num_workers=self.workers)"
   ]
  },
  {
   "cell_type": "markdown",
   "metadata": {
    "slideshow": {
     "slide_type": "slide"
    }
   },
   "source": [
    "# Encoder network"
   ]
  },
  {
   "cell_type": "code",
   "execution_count": 26,
   "metadata": {},
   "outputs": [],
   "source": [
    "class ElectricityEncoder(pl.LightningModule):\n",
    "    \"\"\"Encoder network for encoder-decoder forecast model.\"\"\"\n",
    "   \n",
    "    def __init__(self, hist_len=168, fct_len=24, num_layers=1, hidden_units=8):\n",
    "        super().__init__()\n",
    "        self.hist_len = hist_len\n",
    "        self.fct_len = fct_len\n",
    "        self.num_layers = num_layers\n",
    "        self.hidden_units = hidden_units\n",
    "\n",
    "        self.encoder = nn.LSTM(input_size=1,\n",
    "                               hidden_size=self.hidden_units,\n",
    "                               num_layers=self.num_layers,\n",
    "                               batch_first=True)\n",
    "\n",
    "    def forward(self, x):\n",
    "        output, (henc, cenc) = self.encoder(x.view(x.shape[0], x.shape[1], 1))\n",
    "        \n",
    "        \n",
    "        return output, henc, cenc"
   ]
  },
  {
   "cell_type": "code",
   "execution_count": null,
   "metadata": {},
   "outputs": [],
   "source": []
  },
  {
   "cell_type": "code",
   "execution_count": 27,
   "metadata": {
    "slideshow": {
     "slide_type": "slide"
    }
   },
   "outputs": [],
   "source": [
    "encoder = ElectricityEncoder()"
   ]
  },
  {
   "cell_type": "code",
   "execution_count": 28,
   "metadata": {},
   "outputs": [],
   "source": [
    "hist_sample = torch.cat([ds[3][0].unsqueeze(0),\n",
    "                         ds[5][0].unsqueeze(0)])\n",
    "\n",
    "fct_sample = torch.cat([ds[3][1].unsqueeze(0),\n",
    "                        ds[5][1].unsqueeze(0)])\n",
    "\n",
    "output, hc, cc = encoder(hist_sample)"
   ]
  },
  {
   "cell_type": "code",
   "execution_count": 29,
   "metadata": {},
   "outputs": [
    {
     "data": {
      "text/plain": [
       "torch.Size([2, 168])"
      ]
     },
     "execution_count": 29,
     "metadata": {},
     "output_type": "execute_result"
    }
   ],
   "source": [
    "hist_sample.shape"
   ]
  },
  {
   "cell_type": "code",
   "execution_count": 30,
   "metadata": {},
   "outputs": [
    {
     "data": {
      "text/plain": [
       "torch.Size([1, 2, 8])"
      ]
     },
     "execution_count": 30,
     "metadata": {},
     "output_type": "execute_result"
    }
   ],
   "source": [
    "hc.shape"
   ]
  },
  {
   "cell_type": "code",
   "execution_count": 31,
   "metadata": {},
   "outputs": [
    {
     "data": {
      "text/plain": [
       "torch.Size([2, 168, 8])"
      ]
     },
     "execution_count": 31,
     "metadata": {},
     "output_type": "execute_result"
    }
   ],
   "source": [
    "output.shape"
   ]
  },
  {
   "cell_type": "code",
   "execution_count": 32,
   "metadata": {},
   "outputs": [
    {
     "data": {
      "text/plain": [
       "torch.Size([1, 2, 8])"
      ]
     },
     "execution_count": 32,
     "metadata": {},
     "output_type": "execute_result"
    }
   ],
   "source": [
    "cc.shape"
   ]
  },
  {
   "cell_type": "markdown",
   "metadata": {
    "slideshow": {
     "slide_type": "slide"
    }
   },
   "source": [
    "# Decoder network"
   ]
  },
  {
   "cell_type": "code",
   "execution_count": 33,
   "metadata": {},
   "outputs": [],
   "source": [
    "class ElectricityDecoder(pl.LightningModule):\n",
    "    \"\"\"Encoder network for encoder-decoder forecast model.\"\"\"\n",
    "   \n",
    "    def __init__(self, hist_len=168, fct_len=24, num_layers=1, hidden_units=8):\n",
    "        super().__init__()\n",
    "        self.hist_len = hist_len\n",
    "        self.fct_len = fct_len\n",
    "        self.num_layers = num_layers\n",
    "        self.hidden_units = hidden_units\n",
    "\n",
    "        self.decoder = nn.LSTM(input_size=1,\n",
    "                               hidden_size=self.hidden_units,\n",
    "                               num_layers=self.num_layers,\n",
    "                               batch_first=True)\n",
    "        self.linear = nn.Linear(self.hidden_units, 1)\n",
    "\n",
    "    def forward(self, x, hidden):\n",
    "        output, (hc, cc) = self.decoder(x.view(x.shape[0], x.shape[1], 1), hidden)\n",
    "        output = self.linear(output.squeeze(1))\n",
    "        return output, hc, cc"
   ]
  },
  {
   "cell_type": "code",
   "execution_count": 34,
   "metadata": {
    "slideshow": {
     "slide_type": "slide"
    }
   },
   "outputs": [],
   "source": [
    "decoder = ElectricityDecoder()"
   ]
  },
  {
   "cell_type": "code",
   "execution_count": 35,
   "metadata": {},
   "outputs": [],
   "source": [
    "a, b, c = decoder(hist_sample[:, [-1]], (hc, cc))"
   ]
  },
  {
   "cell_type": "code",
   "execution_count": 36,
   "metadata": {},
   "outputs": [
    {
     "data": {
      "text/plain": [
       "(tensor([[-0.1996],\n",
       "         [-0.1996]], grad_fn=<AddmmBackward>),\n",
       " tensor([[[ 0.0671, -0.1455, -0.1314, -0.0558, -0.3358, -0.3724,  0.1521,\n",
       "           -0.1801],\n",
       "          [ 0.0671, -0.1455, -0.1314, -0.0558, -0.3358, -0.3724,  0.1521,\n",
       "           -0.1801]]], grad_fn=<StackBackward>),\n",
       " tensor([[[  0.1126,  -0.2618,  -0.2442,  -0.1641,  -0.6577, -84.0380,   0.2844,\n",
       "            -0.4555],\n",
       "          [  0.1126,  -0.2618,  -0.2442,  -0.1641,  -0.6577, -84.0380,   0.2844,\n",
       "            -0.4555]]], grad_fn=<StackBackward>))"
      ]
     },
     "execution_count": 36,
     "metadata": {},
     "output_type": "execute_result"
    }
   ],
   "source": [
    "decoder(a, (b, c))"
   ]
  },
  {
   "cell_type": "code",
   "execution_count": 37,
   "metadata": {},
   "outputs": [
    {
     "data": {
      "text/plain": [
       "torch.Size([2, 1])"
      ]
     },
     "execution_count": 37,
     "metadata": {},
     "output_type": "execute_result"
    }
   ],
   "source": [
    "a.shape"
   ]
  },
  {
   "cell_type": "markdown",
   "metadata": {
    "slideshow": {
     "slide_type": "slide"
    }
   },
   "source": [
    "# Encoder-decoder model"
   ]
  },
  {
   "cell_type": "code",
   "execution_count": 38,
   "metadata": {},
   "outputs": [],
   "source": [
    "class ElectricityModel(pl.LightningModule):\n",
    "    \"\"\"Encoder network for encoder-decoder forecast model.\"\"\"\n",
    "   \n",
    "    def __init__(self, hist_len=168, fct_len=24, num_layers=1, hidden_units=8, lr=1e-3):\n",
    "        super().__init__()\n",
    "        self.hist_len = hist_len\n",
    "        self.fct_len = fct_len\n",
    "        self.num_layers = num_layers\n",
    "        self.hidden_units = hidden_units\n",
    "        self.lr = lr\n",
    "\n",
    "        self.encoder = ElectricityEncoder(hist_len, fct_len, num_layers, hidden_units)\n",
    "        \n",
    "        self.MLPglob = nn.Linear(encoded, self.output+1)\n",
    "\n",
    "        self.MLPlocs = nn.ModuleList([nn.Linear(2, 3) for i in range(self.output)]).to(self.device)\n",
    "\n",
    "        \n",
    "        self.decoder = ElectricityDecoder(hist_len, fct_len, num_layers, hidden_units)\n",
    "\n",
    "    def forward(self, x):\n",
    "        forecasts = []\n",
    "        enc, hh, cc = self.encoder(x)\n",
    "        enc = x[:, [-1]]\n",
    "\n",
    "        for i in range(self.fct_len):\n",
    "            enc, hc, cc = self.decoder(enc, (hh, cc))\n",
    "            forecasts.append(enc)\n",
    "        forecasts = torch.cat(forecasts, dim=1)\n",
    "        return forecasts\n",
    "\n",
    "    def training_step(self, batch, batch_idx):\n",
    "        x, y = batch\n",
    "        fct = self(x)\n",
    "        return F.mse_loss(fct, y)\n",
    "\n",
    "    def validation_step(self, batch, batch_idx):\n",
    "\n",
    "        x, y = batch\n",
    "        logits = self(x)\n",
    "        loss = F.mse_loss(logits, y)\n",
    "        self.log('val_mse', loss, prog_bar=True)\n",
    "        return loss\n",
    "\n",
    "    def configure_optimizers(self):\n",
    "        optimizer = torch.optim.Adam(self.parameters(), lr=self.lr)\n",
    "        return optimizer"
   ]
  },
  {
   "cell_type": "markdown",
   "metadata": {
    "slideshow": {
     "slide_type": "slide"
    }
   },
   "source": [
    "# Scaling"
   ]
  },
  {
   "cell_type": "code",
   "execution_count": 39,
   "metadata": {},
   "outputs": [
    {
     "data": {
      "text/plain": [
       "<matplotlib.axes._subplots.AxesSubplot at 0x7fb8ae987e50>"
      ]
     },
     "execution_count": 39,
     "metadata": {},
     "output_type": "execute_result"
    },
    {
     "data": {
      "image/png": "[encoded data removed]",
      "text/plain": [
       "<Figure size 432x432 with 1 Axes>"
      ]
     },
     "metadata": {
      "needs_background": "light"
     },
     "output_type": "display_data"
    }
   ],
   "source": [
    "plt.figure(figsize=(6,6))\n",
    "dfi.plot(kind=\"hist\", ax=plt.gca())"
   ]
  },
  {
   "cell_type": "code",
   "execution_count": 40,
   "metadata": {
    "slideshow": {
     "slide_type": "slide"
    }
   },
   "outputs": [],
   "source": [
    "LIMH, LIML =26e3, 9e3"
   ]
  },
  {
   "cell_type": "code",
   "execution_count": 41,
   "metadata": {},
   "outputs": [
    {
     "data": {
      "text/plain": [
       "<matplotlib.axes._subplots.AxesSubplot at 0x7fb8adca43d0>"
      ]
     },
     "execution_count": 41,
     "metadata": {},
     "output_type": "execute_result"
    },
    {
     "data": {
      "image/png": "[encoded data removed]",
      "text/plain": [
       "<Figure size 432x432 with 1 Axes>"
      ]
     },
     "metadata": {
      "needs_background": "light"
     },
     "output_type": "display_data"
    }
   ],
   "source": [
    "plt.figure(figsize=(6,6))\n",
    "((2 * dfi - LIML - LIMH) / (LIMH - LIML)).plot(kind=\"hist\", ax=plt.gca())"
   ]
  },
  {
   "cell_type": "code",
   "execution_count": 74,
   "metadata": {},
   "outputs": [
    {
     "data": {
      "text/html": [
       "<div>\n",
       "<style scoped>\n",
       "    .dataframe tbody tr th:only-of-type {\n",
       "        vertical-align: middle;\n",
       "    }\n",
       "\n",
       "    .dataframe tbody tr th {\n",
       "        vertical-align: top;\n",
       "    }\n",
       "\n",
       "    .dataframe thead th {\n",
       "        text-align: right;\n",
       "    }\n",
       "</style>\n",
       "<table border=\"1\" class=\"dataframe\">\n",
       "  <thead>\n",
       "    <tr style=\"text-align: right;\">\n",
       "      <th></th>\n",
       "      <th>AEP_MW</th>\n",
       "    </tr>\n",
       "  </thead>\n",
       "  <tbody>\n",
       "    <tr>\n",
       "      <th>2004-10-01 01:00:00</th>\n",
       "      <td>12379.0</td>\n",
       "    </tr>\n",
       "    <tr>\n",
       "      <th>2004-10-01 02:00:00</th>\n",
       "      <td>11935.0</td>\n",
       "    </tr>\n",
       "    <tr>\n",
       "      <th>2004-10-01 03:00:00</th>\n",
       "      <td>11692.0</td>\n",
       "    </tr>\n",
       "    <tr>\n",
       "      <th>2004-10-01 04:00:00</th>\n",
       "      <td>11597.0</td>\n",
       "    </tr>\n",
       "    <tr>\n",
       "      <th>2004-10-01 05:00:00</th>\n",
       "      <td>11681.0</td>\n",
       "    </tr>\n",
       "    <tr>\n",
       "      <th>...</th>\n",
       "      <td>...</td>\n",
       "    </tr>\n",
       "    <tr>\n",
       "      <th>2018-08-02 20:00:00</th>\n",
       "      <td>17673.0</td>\n",
       "    </tr>\n",
       "    <tr>\n",
       "      <th>2018-08-02 21:00:00</th>\n",
       "      <td>17303.0</td>\n",
       "    </tr>\n",
       "    <tr>\n",
       "      <th>2018-08-02 22:00:00</th>\n",
       "      <td>17001.0</td>\n",
       "    </tr>\n",
       "    <tr>\n",
       "      <th>2018-08-02 23:00:00</th>\n",
       "      <td>15964.0</td>\n",
       "    </tr>\n",
       "    <tr>\n",
       "      <th>2018-08-03 00:00:00</th>\n",
       "      <td>14809.0</td>\n",
       "    </tr>\n",
       "  </tbody>\n",
       "</table>\n",
       "<p>121296 rows × 1 columns</p>\n",
       "</div>"
      ],
      "text/plain": [
       "                      AEP_MW\n",
       "2004-10-01 01:00:00  12379.0\n",
       "2004-10-01 02:00:00  11935.0\n",
       "2004-10-01 03:00:00  11692.0\n",
       "2004-10-01 04:00:00  11597.0\n",
       "2004-10-01 05:00:00  11681.0\n",
       "...                      ...\n",
       "2018-08-02 20:00:00  17673.0\n",
       "2018-08-02 21:00:00  17303.0\n",
       "2018-08-02 22:00:00  17001.0\n",
       "2018-08-02 23:00:00  15964.0\n",
       "2018-08-03 00:00:00  14809.0\n",
       "\n",
       "[121296 rows x 1 columns]"
      ]
     },
     "execution_count": 74,
     "metadata": {},
     "output_type": "execute_result"
    }
   ],
   "source": [
    "dfi"
   ]
  },
  {
   "cell_type": "code",
   "execution_count": 48,
   "metadata": {
    "slideshow": {
     "slide_type": "slide"
    }
   },
   "outputs": [
    {
     "name": "stderr",
     "output_type": "stream",
     "text": [
      "GPU available: True, used: True\n",
      "TPU available: None, using: 0 TPU cores\n",
      "\n",
      "  | Name    | Type               | Params\n",
      "-----------------------------------------------\n",
      "0 | encoder | ElectricityEncoder | 17.2 K\n",
      "1 | decoder | ElectricityDecoder | 17.2 K\n",
      "-----------------------------------------------\n",
      "34.4 K    Trainable params\n",
      "0         Non-trainable params\n",
      "34.4 K    Total params\n",
      "0.137     Total estimated model params size (MB)\n"
     ]
    },
    {
     "data": {
      "application/vnd.jupyter.widget-view+json": {
       "model_id": "",
       "version_major": 2,
       "version_minor": 0
      },
      "text/plain": [
       "HBox(children=(FloatProgress(value=1.0, bar_style='info', description='Validation sanity check', layout=Layout…"
      ]
     },
     "metadata": {},
     "output_type": "display_data"
    },
    {
     "name": "stdout",
     "output_type": "stream",
     "text": [
      "\r"
     ]
    },
    {
     "data": {
      "application/vnd.jupyter.widget-view+json": {
       "model_id": "8444a8a32e3442debe8cdd94ccea0fe3",
       "version_major": 2,
       "version_minor": 0
      },
      "text/plain": [
       "HBox(children=(FloatProgress(value=1.0, bar_style='info', description='Training', layout=Layout(flex='2'), max…"
      ]
     },
     "metadata": {},
     "output_type": "display_data"
    },
    {
     "data": {
      "application/vnd.jupyter.widget-view+json": {
       "model_id": "",
       "version_major": 2,
       "version_minor": 0
      },
      "text/plain": [
       "HBox(children=(FloatProgress(value=1.0, bar_style='info', description='Validating', layout=Layout(flex='2'), m…"
      ]
     },
     "metadata": {},
     "output_type": "display_data"
    },
    {
     "data": {
      "application/vnd.jupyter.widget-view+json": {
       "model_id": "",
       "version_major": 2,
       "version_minor": 0
      },
      "text/plain": [
       "HBox(children=(FloatProgress(value=1.0, bar_style='info', description='Validating', layout=Layout(flex='2'), m…"
      ]
     },
     "metadata": {},
     "output_type": "display_data"
    },
    {
     "data": {
      "application/vnd.jupyter.widget-view+json": {
       "model_id": "",
       "version_major": 2,
       "version_minor": 0
      },
      "text/plain": [
       "HBox(children=(FloatProgress(value=1.0, bar_style='info', description='Validating', layout=Layout(flex='2'), m…"
      ]
     },
     "metadata": {},
     "output_type": "display_data"
    },
    {
     "data": {
      "application/vnd.jupyter.widget-view+json": {
       "model_id": "",
       "version_major": 2,
       "version_minor": 0
      },
      "text/plain": [
       "HBox(children=(FloatProgress(value=1.0, bar_style='info', description='Validating', layout=Layout(flex='2'), m…"
      ]
     },
     "metadata": {},
     "output_type": "display_data"
    },
    {
     "data": {
      "application/vnd.jupyter.widget-view+json": {
       "model_id": "",
       "version_major": 2,
       "version_minor": 0
      },
      "text/plain": [
       "HBox(children=(FloatProgress(value=1.0, bar_style='info', description='Validating', layout=Layout(flex='2'), m…"
      ]
     },
     "metadata": {},
     "output_type": "display_data"
    },
    {
     "name": "stdout",
     "output_type": "stream",
     "text": [
      "\n"
     ]
    },
    {
     "data": {
      "text/plain": [
       "1"
      ]
     },
     "execution_count": 48,
     "metadata": {},
     "output_type": "execute_result"
    }
   ],
   "source": [
    "dfs = (2 * dfi - LIML - LIMH) / (LIMH - LIML)\n",
    "\n",
    "ds = ElectricityDataModule(dfs, batch_size=32)\n",
    "model = ElectricityModel(lr=1e-3, hidden_units=64)\n",
    "trainer = pl.Trainer(max_epochs=5, progress_bar_refresh_rate=1, gpus=1)\n",
    "trainer.fit(model, ds)"
   ]
  },
  {
   "cell_type": "code",
   "execution_count": 49,
   "metadata": {},
   "outputs": [],
   "source": [
    "hist_sample_scaled = (2 * hist_sample - LIML - LIMH) / (LIMH - LIML)"
   ]
  },
  {
   "cell_type": "code",
   "execution_count": 50,
   "metadata": {},
   "outputs": [
    {
     "data": {
      "image/png": "[encoded data removed]",
      "text/plain": [
       "<Figure size 864x288 with 1 Axes>"
      ]
     },
     "metadata": {
      "needs_background": "light"
     },
     "output_type": "display_data"
    }
   ],
   "source": [
    "plt.plot((( 2 * hist_sample.numpy() - LIML - LIMH) / (LIMH - LIML))[0], label=\"historical data\")\n",
    "plt.plot(np.arange(168, 192, 1), model(hist_sample_scaled).detach().numpy()[0], label=\"forecast\")\n",
    "plt.plot(np.arange(168, 192, 1), (( 2 * fct_sample.numpy() - LIML - LIMH) / (LIMH - LIML))[0], label=\"actual\")\n",
    "\n",
    "plt.legend(loc=0)\n",
    "plt.tight_layout()"
   ]
  },
  {
   "cell_type": "code",
   "execution_count": 51,
   "metadata": {
    "slideshow": {
     "slide_type": "slide"
    }
   },
   "outputs": [
    {
     "data": {
      "image/png": "[encoded data removed]",
      "text/plain": [
       "<Figure size 864x288 with 1 Axes>"
      ]
     },
     "metadata": {
      "needs_background": "light"
     },
     "output_type": "display_data"
    }
   ],
   "source": [
    "plt.plot((( 2 * hist_sample.numpy() - LIML - LIMH) / (LIMH - LIML))[1], label=\"historical data\")\n",
    "plt.plot(np.arange(168, 192, 1), model(hist_sample_scaled).detach().numpy()[1], label=\"forecast\")\n",
    "plt.plot(np.arange(168, 192, 1), (( 2 * fct_sample.numpy() - LIML - LIMH) / (LIMH - LIML))[1], label=\"actual\")\n",
    "\n",
    "plt.legend(loc=0)\n",
    "plt.tight_layout()"
   ]
  },
  {
   "cell_type": "code",
   "execution_count": 65,
   "metadata": {},
   "outputs": [],
   "source": [
    "ds.setup()\n",
    "dl = ds.test_dataloader()"
   ]
  },
  {
   "cell_type": "code",
   "execution_count": 66,
   "metadata": {},
   "outputs": [
    {
     "data": {
      "text/plain": [
       "<torch.utils.data.dataloader.DataLoader at 0x7fb89c4e0190>"
      ]
     },
     "execution_count": 66,
     "metadata": {},
     "output_type": "execute_result"
    }
   ],
   "source": [
    "ds.test_dataloader()"
   ]
  },
  {
   "cell_type": "code",
   "execution_count": 71,
   "metadata": {},
   "outputs": [
    {
     "data": {
      "text/plain": [
       "<bound method LightningDataModule.get_init_arguments_and_types of <class '__main__.ElectricityDataModule'>>"
      ]
     },
     "execution_count": 71,
     "metadata": {},
     "output_type": "execute_result"
    }
   ],
   "source": [
    "ds.get_init_arguments_and_types"
   ]
  },
  {
   "cell_type": "code",
   "execution_count": null,
   "metadata": {},
   "outputs": [],
   "source": []
  }
 ],
 "metadata": {
  "kernelspec": {
   "display_name": "Environment (conda_pytorch_latest_p37)",
   "language": "python",
   "name": "conda_pytorch_latest_p37"
  },
  "language_info": {
   "codemirror_mode": {
    "name": "ipython",
    "version": 3
   },
   "file_extension": ".py",
   "mimetype": "text/x-python",
   "name": "python",
   "nbconvert_exporter": "python",
   "pygments_lexer": "ipython3",
   "version": "3.7.6"
  }
 },
 "nbformat": 4,
 "nbformat_minor": 4
}
